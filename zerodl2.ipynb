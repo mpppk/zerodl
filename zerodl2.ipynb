{
  "nbformat": 4,
  "nbformat_minor": 0,
  "metadata": {
    "colab": {
      "name": "zerodl2.ipynb",
      "version": "0.3.2",
      "provenance": [],
      "collapsed_sections": [],
      "include_colab_link": true
    },
    "kernelspec": {
      "name": "python3",
      "display_name": "Python 3"
    }
  },
  "cells": [
    {
      "cell_type": "markdown",
      "metadata": {
        "id": "view-in-github",
        "colab_type": "text"
      },
      "source": [
        "[View in Colaboratory](https://colab.research.google.com/github/mpppk/zerodl/blob/master/zerodl2.ipynb)"
      ]
    },
    {
      "metadata": {
        "id": "GOBf1ZHPPhpC",
        "colab_type": "code",
        "colab": {
          "base_uri": "https://localhost:8080/",
          "height": 85
        },
        "outputId": "8a8df6a4-5a60-4a24-90f1-ead051fa9330"
      },
      "cell_type": "code",
      "source": [
        "def add(x1, x2):\n",
        "  w1, w2, b = 0.5, 0.5, -0.4\n",
        "  result = x1*w1 + x2*w2 +b\n",
        "  if result > 0:\n",
        "    return 1\n",
        "  else:\n",
        "    return 0\n",
        "  \n",
        "print(add(1,1))\n",
        "print(add(1,0))\n",
        "print(add(0,1))\n",
        "print(add(0,0))  "
      ],
      "execution_count": 9,
      "outputs": [
        {
          "output_type": "stream",
          "text": [
            "1\n",
            "1\n",
            "1\n",
            "0\n"
          ],
          "name": "stdout"
        }
      ]
    },
    {
      "metadata": {
        "id": "fBcKwR6ATwyx",
        "colab_type": "code",
        "colab": {
          "base_uri": "https://localhost:8080/",
          "height": 85
        },
        "outputId": "672bc9c3-7e01-4c66-c9b8-af2cbc000c13"
      },
      "cell_type": "code",
      "source": [
        "import numpy as np\n",
        "\n",
        "def AND(x1, x2):\n",
        "  x = np.array([x1, x2])\n",
        "  w = np.array([0.5,0.5])\n",
        "  b = -0.9\n",
        "  result = np.sum(x*w) + b\n",
        "  if result > 0:\n",
        "    return 1\n",
        "  else:\n",
        "    return 0\n",
        "  \n",
        "print(AND(1,1))\n",
        "print(AND(1,0))\n",
        "print(AND(0,1))\n",
        "print(AND(0,0))"
      ],
      "execution_count": 10,
      "outputs": [
        {
          "output_type": "stream",
          "text": [
            "1\n",
            "0\n",
            "0\n",
            "0\n"
          ],
          "name": "stdout"
        }
      ]
    },
    {
      "metadata": {
        "id": "ftmu2vkXWZZU",
        "colab_type": "code",
        "colab": {
          "base_uri": "https://localhost:8080/",
          "height": 85
        },
        "outputId": "c0421ea6-2d14-4532-e79a-5b5eb3116059"
      },
      "cell_type": "code",
      "source": [
        "def OR(x1, x2):\n",
        "  x = np.array([x1, x2])\n",
        "  w = np.array([0.5,0.5])\n",
        "  b = -0.4\n",
        "  result = np.sum(x*w) + b\n",
        "  if result > 0:\n",
        "    return 1\n",
        "  else:\n",
        "    return 0\n",
        "  \n",
        "print(OR(1,1))\n",
        "print(OR(1,0))\n",
        "print(OR(0,1))\n",
        "print(OR(0,0))"
      ],
      "execution_count": 11,
      "outputs": [
        {
          "output_type": "stream",
          "text": [
            "1\n",
            "1\n",
            "1\n",
            "0\n"
          ],
          "name": "stdout"
        }
      ]
    },
    {
      "metadata": {
        "id": "rJ2D3RlPW91c",
        "colab_type": "code",
        "colab": {
          "base_uri": "https://localhost:8080/",
          "height": 85
        },
        "outputId": "3ddd18b6-0126-4f54-d4b9-aebb61ab00a0"
      },
      "cell_type": "code",
      "source": [
        "def NAND(x1, x2):\n",
        "  x = np.array([x1, x2])\n",
        "  w = np.array([-0.5,-0.5])\n",
        "  b = 0.9\n",
        "  result = np.sum(x*w) + b\n",
        "  if result > 0:\n",
        "    return 1\n",
        "  else:\n",
        "    return 0\n",
        "  \n",
        "print(NAND(1,1))\n",
        "print(NAND(1,0))\n",
        "print(NAND(0,1))\n",
        "print(NAND(0,0))"
      ],
      "execution_count": 12,
      "outputs": [
        {
          "output_type": "stream",
          "text": [
            "0\n",
            "1\n",
            "1\n",
            "1\n"
          ],
          "name": "stdout"
        }
      ]
    },
    {
      "metadata": {
        "id": "zpQK8_m-bhn7",
        "colab_type": "code",
        "colab": {
          "base_uri": "https://localhost:8080/",
          "height": 85
        },
        "outputId": "9dbc150e-58d3-45cb-d782-f995e32ad9d2"
      },
      "cell_type": "code",
      "source": [
        "def XOR(x1, x2):\n",
        "  s1 = NAND(x1, x2)\n",
        "  s2 = OR(x1, x2)\n",
        "  return AND(s1, s2)\n",
        "\n",
        "print(XOR(1,1))\n",
        "print(XOR(1,0))\n",
        "print(XOR(0,1))\n",
        "print(XOR(0,0))"
      ],
      "execution_count": 13,
      "outputs": [
        {
          "output_type": "stream",
          "text": [
            "0\n",
            "1\n",
            "1\n",
            "0\n"
          ],
          "name": "stdout"
        }
      ]
    }
  ]
}