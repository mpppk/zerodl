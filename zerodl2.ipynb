{
  "nbformat": 4,
  "nbformat_minor": 0,
  "metadata": {
    "colab": {
      "name": "zerodl2.ipynb",
      "version": "0.3.2",
      "provenance": [],
      "collapsed_sections": [],
      "include_colab_link": true
    },
    "kernelspec": {
      "name": "python3",
      "display_name": "Python 3"
    }
  },
  "cells": [
    {
      "cell_type": "markdown",
      "metadata": {
        "id": "view-in-github",
        "colab_type": "text"
      },
      "source": [
        "[View in Colaboratory](https://colab.research.google.com/github/mpppk/zerodl/blob/master/zerodl2.ipynb)"
      ]
    },
    {
      "metadata": {
        "id": "GOBf1ZHPPhpC",
        "colab_type": "code",
        "colab": {
          "base_uri": "https://localhost:8080/",
          "height": 85
        },
        "outputId": "ae829f2f-54dd-4d04-a2db-8385751797e9"
      },
      "cell_type": "code",
      "source": [
        "def add(x1, x2):\n",
        "  w1, w2, b = 0.5, 0.5, -0.4\n",
        "  result = x1*w1 + x2*w2 +b\n",
        "  if result > 0:\n",
        "    return 1\n",
        "  else:\n",
        "    return 0\n",
        "  \n",
        "print(add(1,1))\n",
        "print(add(1,0))\n",
        "print(add(0,1))\n",
        "print(add(0,0))  "
      ],
      "execution_count": 3,
      "outputs": [
        {
          "output_type": "stream",
          "text": [
            "1\n",
            "1\n",
            "1\n",
            "0\n"
          ],
          "name": "stdout"
        }
      ]
    },
    {
      "metadata": {
        "id": "fBcKwR6ATwyx",
        "colab_type": "code",
        "colab": {
          "base_uri": "https://localhost:8080/",
          "height": 85
        },
        "outputId": "5ecb6ac9-5a74-4a30-daf7-4bc5f60f5658"
      },
      "cell_type": "code",
      "source": [
        "import numpy as np\n",
        "\n",
        "def ADD(x1, x2):\n",
        "  x = np.array([x1, x2])\n",
        "  w = np.array([0.5,0.5])\n",
        "  b = -0.9\n",
        "  result = np.sum(x*w) + b\n",
        "  if result > 0:\n",
        "    return 1\n",
        "  else:\n",
        "    return 0\n",
        "  \n",
        "print(ADD(1,1))\n",
        "print(ADD(1,0))\n",
        "print(ADD(0,1))\n",
        "print(ADD(0,0))"
      ],
      "execution_count": 4,
      "outputs": [
        {
          "output_type": "stream",
          "text": [
            "1\n",
            "0\n",
            "0\n",
            "0\n"
          ],
          "name": "stdout"
        }
      ]
    },
    {
      "metadata": {
        "id": "ftmu2vkXWZZU",
        "colab_type": "code",
        "colab": {
          "base_uri": "https://localhost:8080/",
          "height": 85
        },
        "outputId": "e4dcf33e-d015-4211-c171-48d13d9ba4e9"
      },
      "cell_type": "code",
      "source": [
        "def OR(x1, x2):\n",
        "  x = np.array([x1, x2])\n",
        "  w = np.array([0.5,0.5])\n",
        "  b = -0.4\n",
        "  result = np.sum(x*w) + b\n",
        "  if result > 0:\n",
        "    return 1\n",
        "  else:\n",
        "    return 0\n",
        "  \n",
        "print(OR(1,1))\n",
        "print(OR(1,0))\n",
        "print(OR(0,1))\n",
        "print(OR(0,0))"
      ],
      "execution_count": 5,
      "outputs": [
        {
          "output_type": "stream",
          "text": [
            "1\n",
            "1\n",
            "1\n",
            "0\n"
          ],
          "name": "stdout"
        }
      ]
    },
    {
      "metadata": {
        "id": "rJ2D3RlPW91c",
        "colab_type": "code",
        "colab": {
          "base_uri": "https://localhost:8080/",
          "height": 85
        },
        "outputId": "db1cafc9-babf-42b8-8ef1-f4792c118cf0"
      },
      "cell_type": "code",
      "source": [
        "def NAND(x1, x2):\n",
        "  x = np.array([x1, x2])\n",
        "  w = np.array([-0.5,-0.5])\n",
        "  b = 0.9\n",
        "  result = np.sum(x*w) + b\n",
        "  if result > 0:\n",
        "    return 1\n",
        "  else:\n",
        "    return 0\n",
        "  \n",
        "print(NAND(1,1))\n",
        "print(NAND(1,0))\n",
        "print(NAND(0,1))\n",
        "print(NAND(0,0))"
      ],
      "execution_count": 6,
      "outputs": [
        {
          "output_type": "stream",
          "text": [
            "0\n",
            "1\n",
            "1\n",
            "1\n"
          ],
          "name": "stdout"
        }
      ]
    }
  ]
}